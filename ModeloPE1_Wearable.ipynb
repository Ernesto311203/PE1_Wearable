{
  "cells": [
    {
      "cell_type": "markdown",
      "metadata": {
        "id": "0xloH_j_947F"
      },
      "source": [
        "# Modelo Predictivo de Estimación de Presión Arterial"
      ]
    },
    {
      "cell_type": "markdown",
      "metadata": {
        "id": "9Px76DWy2FWs"
      },
      "source": [
        "**Procesamiento de la Data:**\n",
        "Utilizamos la data que esta en .mat, por lo que tenemos que agruparla en mediciones de 10 segundos como se va a utilizar en la realidad. Asi tenemos un numero  de muestras establecido."
      ]
    },
    {
      "cell_type": "code",
      "execution_count": 1,
      "metadata": {
        "id": "nEyEtVOv24Yc"
      },
      "outputs": [],
      "source": [
        "import os\n",
        "import h5py\n",
        "import numpy as np\n",
        "import matplotlib.pyplot as plt\n",
        "from tqdm import tqdm\n",
        "from sklearn.model_selection import train_test_split\n",
        "from sklearn.metrics import mean_absolute_error\n",
        "import matplotlib.pyplot as plt\n",
        "\n",
        "import zipfile\n",
        "import os\n",
        "import shutil\n",
        "\n",
        "import matplotlib.pyplot as plt\n",
        "import glob\n",
        "import os\n",
        "from scipy.signal import butter, filtfilt\n",
        "\n",
        "import tensorflow as tf\n",
        "from tensorflow.keras.utils import Sequence\n",
        "from tensorflow.keras import layers, models"
      ]
    },
    {
      "cell_type": "markdown",
      "metadata": {
        "id": "XvFgBxs_kTU_"
      },
      "source": [
        "## Se descarga un dataset\n",
        "Dataset público (no MIMIC-II, sino del UCI Machine Learning Repository)."
      ]
    },
    {
      "cell_type": "code",
      "execution_count": 2,
      "metadata": {
        "colab": {
          "base_uri": "https://localhost:8080/"
        },
        "id": "UtdO4i2H6EOe",
        "outputId": "8e073fea-136e-4e44-cde5-e632a68e2731"
      },
      "outputs": [
        {
          "output_type": "stream",
          "name": "stdout",
          "text": [
            "--2025-07-24 19:27:47--  https://archive.ics.uci.edu/ml/machine-learning-databases/00340/data.zip\n",
            "Resolving archive.ics.uci.edu (archive.ics.uci.edu)... 128.195.10.252\n",
            "Connecting to archive.ics.uci.edu (archive.ics.uci.edu)|128.195.10.252|:443... connected.\n",
            "HTTP request sent, awaiting response... 200 OK\n",
            "Length: unspecified\n",
            "Saving to: ‘data.zip’\n",
            "\n",
            "data.zip                [              <=>   ] 622.03M  12.7MB/s               ^C\n"
          ]
        }
      ],
      "source": [
        "! wget https://archive.ics.uci.edu/ml/machine-learning-databases/00340/data.zip"
      ]
    },
    {
      "cell_type": "markdown",
      "metadata": {
        "id": "LOxQzbPTke_h"
      },
      "source": [
        "## Descompresion de Datos\n",
        "Se descomprimen los datos y crea una carpeta raw_data, donde se almacenaran los archivos\n",
        "\n"
      ]
    },
    {
      "cell_type": "code",
      "execution_count": 3,
      "metadata": {
        "colab": {
          "base_uri": "https://localhost:8080/",
          "height": 356
        },
        "id": "-dvgbmnV6J_J",
        "outputId": "c5c56541-66a8-4cbc-dd1c-97790d2a1f69"
      },
      "outputs": [
        {
          "output_type": "error",
          "ename": "BadZipFile",
          "evalue": "File is not a zip file",
          "traceback": [
            "\u001b[0;31m---------------------------------------------------------------------------\u001b[0m",
            "\u001b[0;31mBadZipFile\u001b[0m                                Traceback (most recent call last)",
            "\u001b[0;32m/tmp/ipython-input-3-2978645475.py\u001b[0m in \u001b[0;36m<cell line: 0>\u001b[0;34m()\u001b[0m\n\u001b[1;32m      1\u001b[0m \u001b[0;31m# Descomprimir en carpeta temporal\u001b[0m\u001b[0;34m\u001b[0m\u001b[0;34m\u001b[0m\u001b[0m\n\u001b[0;32m----> 2\u001b[0;31m \u001b[0;32mwith\u001b[0m \u001b[0mzipfile\u001b[0m\u001b[0;34m.\u001b[0m\u001b[0mZipFile\u001b[0m\u001b[0;34m(\u001b[0m\u001b[0;34m'data.zip'\u001b[0m\u001b[0;34m,\u001b[0m \u001b[0;34m'r'\u001b[0m\u001b[0;34m)\u001b[0m \u001b[0;32mas\u001b[0m \u001b[0mzip_ref\u001b[0m\u001b[0;34m:\u001b[0m\u001b[0;34m\u001b[0m\u001b[0;34m\u001b[0m\u001b[0m\n\u001b[0m\u001b[1;32m      3\u001b[0m     \u001b[0mzip_ref\u001b[0m\u001b[0;34m.\u001b[0m\u001b[0mextractall\u001b[0m\u001b[0;34m(\u001b[0m\u001b[0;34m'/content/temp_data'\u001b[0m\u001b[0;34m)\u001b[0m\u001b[0;34m\u001b[0m\u001b[0;34m\u001b[0m\u001b[0m\n\u001b[1;32m      4\u001b[0m \u001b[0;34m\u001b[0m\u001b[0m\n\u001b[1;32m      5\u001b[0m \u001b[0mprint\u001b[0m\u001b[0;34m(\u001b[0m\u001b[0;34m\"Archivo descomprimido en /content/temp_data\"\u001b[0m\u001b[0;34m)\u001b[0m\u001b[0;34m\u001b[0m\u001b[0;34m\u001b[0m\u001b[0m\n",
            "\u001b[0;32m/usr/lib/python3.11/zipfile.py\u001b[0m in \u001b[0;36m__init__\u001b[0;34m(self, file, mode, compression, allowZip64, compresslevel, strict_timestamps, metadata_encoding)\u001b[0m\n\u001b[1;32m   1311\u001b[0m         \u001b[0;32mtry\u001b[0m\u001b[0;34m:\u001b[0m\u001b[0;34m\u001b[0m\u001b[0;34m\u001b[0m\u001b[0m\n\u001b[1;32m   1312\u001b[0m             \u001b[0;32mif\u001b[0m \u001b[0mmode\u001b[0m \u001b[0;34m==\u001b[0m \u001b[0;34m'r'\u001b[0m\u001b[0;34m:\u001b[0m\u001b[0;34m\u001b[0m\u001b[0;34m\u001b[0m\u001b[0m\n\u001b[0;32m-> 1313\u001b[0;31m                 \u001b[0mself\u001b[0m\u001b[0;34m.\u001b[0m\u001b[0m_RealGetContents\u001b[0m\u001b[0;34m(\u001b[0m\u001b[0;34m)\u001b[0m\u001b[0;34m\u001b[0m\u001b[0;34m\u001b[0m\u001b[0m\n\u001b[0m\u001b[1;32m   1314\u001b[0m             \u001b[0;32melif\u001b[0m \u001b[0mmode\u001b[0m \u001b[0;32min\u001b[0m \u001b[0;34m(\u001b[0m\u001b[0;34m'w'\u001b[0m\u001b[0;34m,\u001b[0m \u001b[0;34m'x'\u001b[0m\u001b[0;34m)\u001b[0m\u001b[0;34m:\u001b[0m\u001b[0;34m\u001b[0m\u001b[0;34m\u001b[0m\u001b[0m\n\u001b[1;32m   1315\u001b[0m                 \u001b[0;31m# set the modified flag so central directory gets written\u001b[0m\u001b[0;34m\u001b[0m\u001b[0;34m\u001b[0m\u001b[0m\n",
            "\u001b[0;32m/usr/lib/python3.11/zipfile.py\u001b[0m in \u001b[0;36m_RealGetContents\u001b[0;34m(self)\u001b[0m\n\u001b[1;32m   1378\u001b[0m             \u001b[0;32mraise\u001b[0m \u001b[0mBadZipFile\u001b[0m\u001b[0;34m(\u001b[0m\u001b[0;34m\"File is not a zip file\"\u001b[0m\u001b[0;34m)\u001b[0m\u001b[0;34m\u001b[0m\u001b[0;34m\u001b[0m\u001b[0m\n\u001b[1;32m   1379\u001b[0m         \u001b[0;32mif\u001b[0m \u001b[0;32mnot\u001b[0m \u001b[0mendrec\u001b[0m\u001b[0;34m:\u001b[0m\u001b[0;34m\u001b[0m\u001b[0;34m\u001b[0m\u001b[0m\n\u001b[0;32m-> 1380\u001b[0;31m             \u001b[0;32mraise\u001b[0m \u001b[0mBadZipFile\u001b[0m\u001b[0;34m(\u001b[0m\u001b[0;34m\"File is not a zip file\"\u001b[0m\u001b[0;34m)\u001b[0m\u001b[0;34m\u001b[0m\u001b[0;34m\u001b[0m\u001b[0m\n\u001b[0m\u001b[1;32m   1381\u001b[0m         \u001b[0;32mif\u001b[0m \u001b[0mself\u001b[0m\u001b[0;34m.\u001b[0m\u001b[0mdebug\u001b[0m \u001b[0;34m>\u001b[0m \u001b[0;36m1\u001b[0m\u001b[0;34m:\u001b[0m\u001b[0;34m\u001b[0m\u001b[0;34m\u001b[0m\u001b[0m\n\u001b[1;32m   1382\u001b[0m             \u001b[0mprint\u001b[0m\u001b[0;34m(\u001b[0m\u001b[0mendrec\u001b[0m\u001b[0;34m)\u001b[0m\u001b[0;34m\u001b[0m\u001b[0;34m\u001b[0m\u001b[0m\n",
            "\u001b[0;31mBadZipFile\u001b[0m: File is not a zip file"
          ]
        }
      ],
      "source": [
        "\n",
        "\n",
        "# Descomprimir en carpeta temporal\n",
        "with zipfile.ZipFile('data.zip', 'r') as zip_ref:\n",
        "    zip_ref.extractall('/content/temp_data')\n",
        "\n",
        "print(\"Archivo descomprimido en /content/temp_data\")\n",
        "\n",
        "# Crear carpeta raw_data si no existe\n",
        "os.makedirs('/content/raw_data', exist_ok=True)\n",
        "\n",
        "# Mover todo lo descomprimido a raw_data\n",
        "for root, dirs, files in os.walk('/content/temp_data'):\n",
        "    for file in files:\n",
        "        src = os.path.join(root, file)\n",
        "        dst = os.path.join('/content/raw_data', file)\n",
        "        shutil.move(src, dst)\n",
        "\n",
        "print(\"Archivos movidos a /content/raw_data\")\n",
        "\n",
        "# (Opcional) Verificar los archivos\n",
        "print(\"\\Archivos en /content/raw_data:\")\n",
        "for f in os.listdir('/content/raw_data'):\n",
        "    print(f)"
      ]
    },
    {
      "cell_type": "markdown",
      "metadata": {
        "id": "mOQ8oSLQuho7"
      },
      "source": [
        "## Funciones para Preprocesamiento\n",
        "Se declaran funciones que seran empleadas para procesar los datos"
      ]
    },
    {
      "cell_type": "code",
      "execution_count": null,
      "metadata": {
        "id": "nw8rvxW3u1XP"
      },
      "outputs": [],
      "source": [
        "#lleva cada segmento a un rango de [0,1]\n",
        "def normalize(segment):\n",
        "    min_val = np.min(segment)\n",
        "    max_val = np.max(segment)\n",
        "    if np.isclose(max_val, min_val):\n",
        "        return np.zeros_like(segment)\n",
        "    return (segment - min_val) / (max_val - min_val)\n",
        "\n",
        "#Filtra la banda de 0.5 a 8 Hz\n",
        "def bandpass_filter(signal, lowcut=0.5, highcut=8.0, fs=125, order=4):\n",
        "    nyquist = 0.5 * fs\n",
        "    low = lowcut / nyquist\n",
        "    high = highcut / nyquist\n",
        "    b, a = butter(order, [low, high], btype='band')\n",
        "    filtered_signal = filtfilt(b, a, signal)\n",
        "    return filtered_signal\n",
        "\n",
        "#Corta la señal en ventanas de 1024 muestras (8.2 s a 125 Hz).\n",
        "#Usa stride de 128\n",
        "def segmentar(signal, bp, segment_length=1024, stride=128):\n",
        "    X, Y = [], []\n",
        "    # Aplicar filtro pasa banda a la señal PPG\n",
        "    signal = bandpass_filter(signal)\n",
        "    for i in range(0, len(signal) - segment_length + 1, stride):\n",
        "        ppg_seg = signal[i:i+segment_length]\n",
        "        abp_seg = bp[i:i+segment_length]\n",
        "\n",
        "        # VALIDACIÓN OPCIONAL: descartar segmentos planos o ruidosos\n",
        "        if np.std(ppg_seg) < 0.01 or np.std(abp_seg) < 0.01:\n",
        "          continue\n",
        "\n",
        "\n",
        "        #Normaliza solo la entrada, el PPG()\n",
        "        ppg_seg = normalize(ppg_seg)\n",
        "\n",
        "        # Etiquetas de salida, es el objetivo del modelo a evaluar\n",
        "        sbp = np.max(abp_seg)\n",
        "        dbp = np.min(abp_seg)\n",
        "\n",
        "        X.append(ppg_seg)\n",
        "        Y.append([sbp, dbp])\n",
        "\n",
        "    return np.array(X), np.array(Y)"
      ]
    },
    {
      "cell_type": "markdown",
      "metadata": {
        "id": "dMEKqrq0wTuQ"
      },
      "source": [
        "Se procesan los datos"
      ]
    },
    {
      "cell_type": "code",
      "execution_count": null,
      "metadata": {
        "id": "7R175e0N3iRU"
      },
      "outputs": [],
      "source": [
        "\n",
        "\n",
        "\n",
        "#definicion de archivos de entrada\n",
        "archivos = ['raw_data/Part_1.mat', 'raw_data/Part_2.mat', 'raw_data/Part_3.mat', 'raw_data/Part_4.mat']\n",
        "output_dir = 'segmentos_guardados'\n",
        "os.makedirs(output_dir, exist_ok=True)\n",
        "\n",
        "segment_count = 0\n",
        "registro_procesado = 0\n",
        "\n",
        "for archivo in archivos:\n",
        "    grupo_id = os.path.splitext(os.path.basename(archivo))[0]\n",
        "    print(f'\\Procesando: {archivo}')\n",
        "\n",
        "    with h5py.File(archivo, 'r') as f:\n",
        "      #se verifica que el grupo exista\n",
        "        if grupo_id not in f:\n",
        "            print(f'Grupo {grupo_id} no encontrado en {archivo}')\n",
        "            continue\n",
        "\n",
        "        registros = f[grupo_id]\n",
        "        print(f'Total registros en {grupo_id}: {len(registros)}')\n",
        "\n",
        "        for i in tqdm(range(len(registros)), desc=f'{grupo_id} registros'):\n",
        "            try:\n",
        "                ref = registros[i][0]\n",
        "                record = f[ref][()]\n",
        "\n",
        "                #se descarta si no es el formato esperado\n",
        "                if record.ndim != 2 or record.shape[1] < 2:\n",
        "                    print(f'Registro {i} inválido: forma {record.shape}')\n",
        "                    continue\n",
        "                #extrae la columna 0 como señal ppg y la columna 1 como presion arterial\n",
        "                signal = record[:, 0]\n",
        "                bp = record[:, 1]\n",
        "\n",
        "                #segmentamos las señales\n",
        "                X_seg, Y_seg = segmentar(signal, bp)\n",
        "\n",
        "                if X_seg.size > 0:\n",
        "\n",
        "                    #redimenciona\n",
        "                    X_seg = X_seg[..., np.newaxis].astype(np.float32)\n",
        "                    Y_seg = Y_seg.astype(np.float32)\n",
        "\n",
        "                    np.save(os.path.join(output_dir, f'X_seg_{segment_count}.npy'),\n",
        "                            X_seg)\n",
        "                    np.save(os.path.join(output_dir, f'Y_seg_{segment_count}.npy'),\n",
        "                            Y_seg)\n",
        "\n",
        "                    segment_count += 1\n",
        "                    registro_procesado += 1\n",
        "                else:\n",
        "                    print(f'Registro {i} sin segmentos válidos')\n",
        "            except Exception as e:\n",
        "                print(f'Error en registro {i}: {e}')\n",
        "\n",
        "print(f'\\n Proceso terminado.')\n",
        "print(f'Registros procesados con segmentos: {registro_procesado}')\n",
        "print(f'Archivos .npy guardados: {segment_count}')\n",
        "print(f'Archivos en carpeta {output_dir}: {len(os.listdir(output_dir)) // 2} pares')\n",
        "\n"
      ]
    },
    {
      "cell_type": "markdown",
      "metadata": {
        "id": "vlIzMgOh6qvM"
      },
      "source": [
        "HASTA ACA EL PREPROCESAMIENTO\n",
        "(Detalle, dividir mejor la data del test y train de distinta manera) Al ser bastante data no alcanza la RAM para procesar todo. Se puede hacer una carpeta adicional donde se divida una carpeta TRAIN y TEST"
      ]
    },
    {
      "cell_type": "markdown",
      "metadata": {
        "id": "Aa--76IO9aUb"
      },
      "source": [
        "## Creacion del modelo\n",
        "Se pasan los valores procesado a x y y"
      ]
    },
    {
      "cell_type": "markdown",
      "metadata": {
        "id": "rBSyl5FUEJXF"
      },
      "source": [
        "#### Combinar Multiples Archivos\n"
      ]
    },
    {
      "cell_type": "code",
      "execution_count": null,
      "metadata": {
        "id": "IWRE9xpGESOC"
      },
      "outputs": [],
      "source": [
        "# Cambia el número de archivos que quieres cargar (10, 20, etc.)\n",
        "max_archivos = 5\n",
        "\n",
        "# Buscar todos los archivos\n",
        "X_files = sorted(glob.glob('segmentos_guardados/X_seg_*.npy'))[:max_archivos]\n",
        "Y_files = sorted(glob.glob('segmentos_guardados/Y_seg_*.npy'))[:max_archivos]"
      ]
    },
    {
      "cell_type": "code",
      "execution_count": null,
      "metadata": {
        "id": "L6lMMBGDrdIq"
      },
      "outputs": [],
      "source": [
        "\n",
        "#Probar con pocos datos\n",
        "#X = np.load('segmentos_guardados/X_seg_1.npy')\n",
        "#Y = np.load('segmentos_guardados/Y_seg_1.npy')\n",
        "\n",
        "# Cargar y concatenar\n",
        "X = np.concatenate([np.load(f) for f in X_files], axis=0)\n",
        "Y = np.concatenate([np.load(f) for f in Y_files], axis=0)\n",
        "\n",
        "print(f\"X shape: {X.shape}, Y shape: {Y.shape}\")"
      ]
    },
    {
      "cell_type": "code",
      "execution_count": null,
      "metadata": {
        "id": "RLn2a7ejuPPD"
      },
      "outputs": [],
      "source": [
        "# Primera división: separa el 70% para entrenamiento y 30% para el resto\n",
        "X_train, X_temp, Y_train, Y_temp = train_test_split(X, Y, test_size=0.3, random_state=42)\n",
        "# Segunda división: divide ese 30% en mitad para validación y mitad para prueba\n",
        "X_val, X_test, Y_val, Y_test = train_test_split(X_temp, Y_temp, test_size=0.5, random_state=42)"
      ]
    },
    {
      "cell_type": "code",
      "execution_count": null,
      "metadata": {
        "id": "T7Qshu-cukc2"
      },
      "outputs": [],
      "source": [
        "\n",
        "\n",
        "def unet_1d(input_shape):\n",
        "    inputs = layers.Input(shape=input_shape)\n",
        "\n",
        "    # Encoder\n",
        "    x1 = layers.Conv1D(64, 3, padding='same', activation='relu')(inputs)\n",
        "    p1 = layers.MaxPooling1D(2)(x1)\n",
        "\n",
        "    x2 = layers.Conv1D(128, 3, padding='same', activation='relu')(p1)\n",
        "    p2 = layers.MaxPooling1D(2)(x2)\n",
        "\n",
        "    # Bottleneck\n",
        "    bn = layers.Conv1D(256, 3, padding='same', activation='relu')(p2)\n",
        "\n",
        "    # Decoder\n",
        "    u2 = layers.UpSampling1D(2)(bn)\n",
        "    c2 = layers.concatenate([u2, x2])\n",
        "    x3 = layers.Conv1D(128, 3, padding='same', activation='relu')(c2)\n",
        "\n",
        "    u1 = layers.UpSampling1D(2)(x3)\n",
        "    c1 = layers.concatenate([u1, x1])\n",
        "    x4 = layers.Conv1D(64, 3, padding='same', activation='relu')(c1)\n",
        "\n",
        "    outputs = layers.Conv1D(1, 1, activation='linear')(x4)\n",
        "\n",
        "    return models.Model(inputs, outputs)\n",
        "\n",
        "def cnn_regresion_1d(input_shape=(1024, 1)):\n",
        "    inputs = layers.Input(shape=input_shape)\n",
        "\n",
        "    x = layers.Conv1D(32, kernel_size=5, activation='relu', padding='same')(inputs)\n",
        "    x = layers.MaxPooling1D(pool_size=2)(x)\n",
        "\n",
        "    x = layers.Conv1D(64, kernel_size=5, activation='relu', padding='same')(x)\n",
        "    x = layers.MaxPooling1D(pool_size=2)(x)\n",
        "\n",
        "    x = layers.Conv1D(128, kernel_size=5, activation='relu', padding='same')(x)\n",
        "    x = layers.GlobalAveragePooling1D()(x)\n",
        "\n",
        "    x = layers.Dense(128, activation='relu')(x)\n",
        "    x = layers.Dropout(0.3)(x)\n",
        "\n",
        "    outputs = layers.Dense(2, activation='linear')(x)  # SBP y DBP\n",
        "\n",
        "    model = models.Model(inputs=inputs, outputs=outputs)\n",
        "    return model\n",
        "\n",
        "def cnn_and_rnn(input_shape=(1024, 1)):\n",
        "    inputs = layers.Input(shape=input_shape)\n",
        "\n",
        "    #  Etapa convolucional\n",
        "    x = layers.Conv1D(32, kernel_size=5, activation='relu', padding='same')(inputs)\n",
        "    x = layers.MaxPooling1D(pool_size=2)(x)\n",
        "\n",
        "    x = layers.Conv1D(64, kernel_size=5, activation='relu', padding='same')(x)\n",
        "    x = layers.MaxPooling1D(pool_size=2)(x)\n",
        "\n",
        "    # Etapa recurrente\n",
        "    x = layers.Bidirectional(layers.LSTM(64, return_sequences=False))(x)\n",
        "\n",
        "    # Densas finales\n",
        "    x = layers.Dense(64, activation='relu')(x)\n",
        "    x = layers.Dropout(0.3)(x)\n",
        "\n",
        "    outputs = layers.Dense(2, activation='linear')(x)  # SBP, DBP\n",
        "\n",
        "    return models.Model(inputs=inputs, outputs=outputs)\n",
        "\n"
      ]
    },
    {
      "cell_type": "markdown",
      "metadata": {
        "id": "k_CzQvle9pCJ"
      },
      "source": [
        "## Entrenamiento del modelo\n",
        "\n",
        "Se entrena el modelo con los datos correspondientes"
      ]
    },
    {
      "cell_type": "code",
      "execution_count": null,
      "metadata": {
        "id": "ZnFwDX0pun4O"
      },
      "outputs": [],
      "source": [
        "#model = unet_1d((1024, 1))\n",
        "#cnn normal con validaciones\n",
        "#model = cnn_regresion_1d((1024, 1))\n",
        "#cnn + rnn\n",
        "model = cnn_and_rnn((1024, 1))\n",
        "model.compile(optimizer='adam', loss='mse', metrics=['mae'])\n",
        "\n",
        "history = model.fit(X_train, Y_train,\n",
        "                    validation_data=(X_val, Y_val),\n",
        "                    epochs=30,\n",
        "                    batch_size=64)\n"
      ]
    },
    {
      "cell_type": "markdown",
      "metadata": {
        "id": "UtoIhGaB9xTX"
      },
      "source": [
        "## Pruebes del rendimiento del modelo\n"
      ]
    },
    {
      "cell_type": "markdown",
      "metadata": {
        "id": "LD3nG1h9GhDD"
      },
      "source": [
        "### Graficos de prediccion\n",
        "predicion del vector [SBD,DBP]"
      ]
    },
    {
      "cell_type": "code",
      "execution_count": 8,
      "metadata": {
        "colab": {
          "base_uri": "https://localhost:8080/",
          "height": 211
        },
        "id": "i_jlAjwYHERy",
        "outputId": "3442eac2-b1ae-4502-bdd6-2f372051e02a"
      },
      "outputs": [
        {
          "output_type": "error",
          "ename": "NameError",
          "evalue": "name 'model' is not defined",
          "traceback": [
            "\u001b[0;31m---------------------------------------------------------------------------\u001b[0m",
            "\u001b[0;31mNameError\u001b[0m                                 Traceback (most recent call last)",
            "\u001b[0;32m/tmp/ipython-input-8-2701483436.py\u001b[0m in \u001b[0;36m<cell line: 0>\u001b[0;34m()\u001b[0m\n\u001b[1;32m      3\u001b[0m \u001b[0;34m\u001b[0m\u001b[0m\n\u001b[1;32m      4\u001b[0m \u001b[0;31m# Real y predicción\u001b[0m\u001b[0;34m\u001b[0m\u001b[0;34m\u001b[0m\u001b[0m\n\u001b[0;32m----> 5\u001b[0;31m \u001b[0mpred\u001b[0m \u001b[0;34m=\u001b[0m \u001b[0mmodel\u001b[0m\u001b[0;34m.\u001b[0m\u001b[0mpredict\u001b[0m\u001b[0;34m(\u001b[0m\u001b[0mX_test\u001b[0m\u001b[0;34m[\u001b[0m\u001b[0mi\u001b[0m\u001b[0;34m:\u001b[0m\u001b[0mi\u001b[0m\u001b[0;34m+\u001b[0m\u001b[0;36m1\u001b[0m\u001b[0;34m]\u001b[0m\u001b[0;34m)\u001b[0m\u001b[0;34m[\u001b[0m\u001b[0;36m0\u001b[0m\u001b[0;34m]\u001b[0m  \u001b[0;31m# pred: [SBP_pred, DBP_pred]\u001b[0m\u001b[0;34m\u001b[0m\u001b[0;34m\u001b[0m\u001b[0m\n\u001b[0m\u001b[1;32m      6\u001b[0m \u001b[0mreal\u001b[0m \u001b[0;34m=\u001b[0m \u001b[0mY_test\u001b[0m\u001b[0;34m[\u001b[0m\u001b[0mi\u001b[0m\u001b[0;34m]\u001b[0m                        \u001b[0;31m# real: [SBP_real, DBP_real]\u001b[0m\u001b[0;34m\u001b[0m\u001b[0;34m\u001b[0m\u001b[0m\n\u001b[1;32m      7\u001b[0m \u001b[0;34m\u001b[0m\u001b[0m\n",
            "\u001b[0;31mNameError\u001b[0m: name 'model' is not defined"
          ]
        }
      ],
      "source": [
        "# Elegir índice a visualizar\n",
        "i = 0\n",
        "\n",
        "# Real y predicción\n",
        "pred = model.predict(X_test[i:i+1])[0]  # pred: [SBP_pred, DBP_pred]\n",
        "real = Y_test[i]                        # real: [SBP_real, DBP_real]\n",
        "\n",
        "\n",
        "print(f\"SBP real: {real[0]:.2f} - predicho: {pred[0]:.2f}\")\n",
        "print(f\"DBP real: {real[1]:.2f} - predicho: {pred[1]:.2f}\")\n",
        "\n",
        "# Visualización tipo barras\n",
        "\n",
        "labels = ['SBP', 'DBP']\n",
        "x = np.arange(len(labels))\n",
        "\n",
        "plt.bar(x - 0.15, real, width=0.3, label='Real')\n",
        "plt.bar(x + 0.15, pred, width=0.3, label='Predicción')\n",
        "plt.xticks(x, labels)\n",
        "plt.ylabel('Presión (mmHg)')\n",
        "plt.title('Comparación SBP/DBP: Real vs Predicho')\n",
        "plt.legend()\n",
        "plt.grid(True)\n",
        "plt.show()\n"
      ]
    },
    {
      "cell_type": "code",
      "execution_count": null,
      "metadata": {
        "id": "hLqyy1AUL3NT"
      },
      "outputs": [],
      "source": [
        "import matplotlib.pyplot as plt\n",
        "\n",
        "# Entrenamiento del modelo y guardar el historial\n",
        "\n",
        "# Graficar loss y accuracy\n",
        "\n",
        "# Graficar Entropía de Pérdida\n",
        "plt.figure(figsize=(12, 6))\n",
        "\n",
        "# Pérdida en entrenamiento\n",
        "plt.subplot(1, 2, 1)\n",
        "plt.plot(history.history['loss'], label='Pérdida (Train)')\n",
        "plt.plot(history.history['val_loss'], label='Pérdida (Validation)', linestyle='--')\n",
        "plt.title('Pérdida durante el Entrenamiento')\n",
        "plt.xlabel('Epochs')\n",
        "plt.ylabel('Loss')\n",
        "plt.legend()\n",
        "\n",
        "# Exactitud de clasificación\n",
        "plt.subplot(1, 2, 2)\n",
        "plt.plot(history.history['mae'], label='Exactitud (Train)')\n",
        "plt.plot(history.history['val_mae'], label='Exactitud (Validation)', linestyle='--')\n",
        "plt.title('Exactitud durante el Entrenamiento')\n",
        "plt.xlabel('Epochs')\n",
        "plt.ylabel('Mae')\n",
        "plt.legend()\n",
        "\n",
        "plt.tight_layout()\n",
        "plt.show()\n"
      ]
    },
    {
      "cell_type": "code",
      "execution_count": 7,
      "metadata": {
        "colab": {
          "base_uri": "https://localhost:8080/",
          "height": 630
        },
        "id": "GTSgIEXuziEP",
        "outputId": "df508e30-19e2-4f28-9552-74208aa55b52"
      },
      "outputs": [
        {
          "output_type": "stream",
          "name": "stdout",
          "text": [
            "🧠 Modelo cargado correctamente...\n",
            "\n",
            "📊 Estimación SBP y DBP:\n",
            "🟦 Modelo .h5 → SBP: 136.210, DBP: 67.762\n"
          ]
        },
        {
          "output_type": "display_data",
          "data": {
            "text/plain": [
              "<Figure size 1400x800 with 2 Axes>"
            ],
            "image/png": "[encoded data removed]"
          },
          "metadata": {}
        }
      ],
      "source": [
        "import os\n",
        "import numpy as np\n",
        "import pandas as pd\n",
        "import matplotlib.pyplot as plt\n",
        "from scipy.signal import butter, filtfilt, find_peaks\n",
        "import tensorflow as tf\n",
        "from tensorflow.keras.models import load_model\n",
        "from tensorflow.keras import layers, models\n",
        "from sklearn.metrics import mean_absolute_error\n",
        "\n",
        "def cargar_archivo_excel(file_path):\n",
        "    if not os.path.exists(file_path):\n",
        "        raise FileNotFoundError(f\"El archivo {file_path} no se encuentra.\")\n",
        "\n",
        "    try:\n",
        "        df = pd.read_excel(file_path, header=None)\n",
        "        df = df[1:]  # Eliminar la primera fila si contiene encabezados no útiles\n",
        "        df.columns = ['timestamp', 'ppg_A', 'ppg_B']\n",
        "        return df\n",
        "    except Exception as e:\n",
        "        raise ValueError(f\"Error al cargar el archivo Excel: {e}\")\n",
        "\n",
        "file_path = \"maraton.xlsx\" #Muestreo Obtenido del sensor\n",
        "\n",
        "\n",
        "df = cargar_archivo_excel(file_path)\n",
        "\n",
        "\n",
        "ppg_raw = pd.to_numeric(df['ppg_A'], errors='coerce').dropna().astype(float).values\n",
        "\n",
        "\n",
        "def eliminar_tendencia(ppg_raw):\n",
        "    rolling_mean = pd.Series(ppg_raw).rolling(window=200, center=True, min_periods=1).mean()\n",
        "    return ppg_raw - rolling_mean\n",
        "\n",
        "ppg_detrended = eliminar_tendencia(ppg_raw)\n",
        "\n",
        "\n",
        "def butter_bandpass_filter(data, lowcut, highcut, fs, order=4):\n",
        "    nyq = 0.5 * fs\n",
        "    low = lowcut / nyq\n",
        "    high = highcut / nyq\n",
        "    b, a = butter(order, [low, high], btype='band')\n",
        "    return filtfilt(b, a, data)\n",
        "\n",
        "fs = 125\n",
        "ppg_filtered = butter_bandpass_filter(ppg_detrended, 0.5, 5.0, fs)\n",
        "\n",
        "\n",
        "def recortar_a_muestras(ppg_filtered, num_muestras=1024):\n",
        "    if len(ppg_filtered) < num_muestras:\n",
        "        raise ValueError(f\"La señal es más corta de {num_muestras} muestras.\")\n",
        "    return ppg_filtered[:num_muestras]\n",
        "\n",
        "ppg_final = recortar_a_muestras(ppg_filtered)\n",
        "\n",
        "\n",
        "def normalizar(ppg_final):\n",
        "    ppg_min = np.min(ppg_final)\n",
        "    ppg_max = np.max(ppg_final)\n",
        "    return (ppg_final - ppg_min) / (ppg_max - ppg_min)\n",
        "\n",
        "ppg_norm = normalizar(ppg_final)\n",
        "\n",
        "\n",
        "ppg_input = ppg_norm.reshape(1, 1024, 1).astype(np.float32)  # Se mantiene la forma para 1 muestra\n",
        "\n",
        "\n",
        "def cargar_modelo(model_path):\n",
        "    try:\n",
        "        model = tf.keras.models.load_model(model_path, compile=False)\n",
        "        return model\n",
        "    except Exception as e:\n",
        "        raise ValueError(f\"Error al cargar el modelo: {e}\")\n",
        "\n",
        "modelo_path = 'model_compatible.h5'\n",
        "\n",
        "try:\n",
        "    full_model = cargar_modelo(modelo_path)\n",
        "    print(\"Modelo cargado correctamente...\")\n",
        "except ValueError as e:\n",
        "    print(e)\n",
        "    full_model = None\n",
        "\n",
        "if full_model:\n",
        "    # Hacer la predicción\n",
        "    sbp_full, dbp_full = full_model.predict(ppg_input, verbose=0)[0]  # Modelo con dos salidas (SBP y DBP)\n",
        "\n",
        "    # Cálculo de error absoluto medio (MAE) si tienes los valores reales (opcional)\n",
        "    # mae_sbp = mean_absolute_error([sbp_full], real_sbp_values)\n",
        "    # mae_dbp = mean_absolute_error([dbp_full], real_dbp_values)\n",
        "\n",
        "    print(f\"\\nEstimación SBP y DBP:\")\n",
        "    print(f\"Modelo .h5 SBP: {sbp_full:.3f}, DBP: {dbp_full:.3f}\")\n",
        "\n",
        "\n",
        "else:\n",
        "    print(\"No se pudo cargar el modelo .h5.\")\n"
      ]
    },
    {
      "cell_type": "code",
      "execution_count": null,
      "metadata": {
        "id": "eQBWut_fRb1T"
      },
      "outputs": [],
      "source": [
        "# Configurar el convertidor para habilitar variables de recursos\n",
        "converter = tf.lite.TFLiteConverter.from_keras_model(model)\n",
        "converter.experimental_enable_resource_variables = True\n",
        "\n",
        "tflite_model = converter.convert()\n",
        "\n",
        "# Guardar el modelo TFLite\n",
        "with open('model_compatible.tflite', 'wb') as f:\n",
        "    f.write(tflite_model)\n",
        "\n"
      ]
    },
    {
      "cell_type": "code",
      "execution_count": null,
      "metadata": {
        "id": "RnxbWvJKRdJE"
      },
      "outputs": [],
      "source": [
        "# Cargar el modelo TFLite\n",
        "interpreter = tf.lite.Interpreter(model_path=\"model_compatible.tflite\")\n",
        "interpreter.allocate_tensors()\n",
        "\n",
        "\n",
        "input_details = interpreter.get_input_details()\n",
        "output_details = interpreter.get_output_details()\n",
        "\n",
        "input_shape = input_details[0]['shape']\n",
        "input_dtype = input_details[0]['dtype']\n",
        "\n",
        "# Realizar predicción con el modelo TFLite\n",
        "def predict_tflite(input_data):\n",
        "    interpreter.set_tensor(input_details[0]['index'], input_data)\n",
        "    interpreter.invoke()\n",
        "    output_data = interpreter.get_tensor(output_details[0]['index'])\n",
        "    return output_data\n",
        "\n",
        "# Realizar predicción con el modelo TFLite en los datos de prueba\n",
        "y_pred_tflite = predict_tflite(ppg_input)\n",
        "\n",
        "print(\"Predicción TFLite:\", y_pred_tflite)\n"
      ]
    }
  ],
  "metadata": {
    "colab": {
      "provenance": [],
      "gpuType": "T4"
    },
    "kernelspec": {
      "display_name": "Python 3",
      "name": "python3"
    },
    "language_info": {
      "name": "python"
    },
    "accelerator": "GPU"
  },
  "nbformat": 4,
  "nbformat_minor": 0
}